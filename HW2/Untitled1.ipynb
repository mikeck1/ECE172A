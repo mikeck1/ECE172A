{
 "cells": [
  {
   "cell_type": "code",
   "execution_count": 1,
   "metadata": {},
   "outputs": [],
   "source": [
    "var myStr = \"<textarea id='body' name='body'>Learn magic, play Quidditch, and drink some butter beer.</textarea>\";"
   ]
  },
  {
   "cell_type": "code",
   "execution_count": 3,
   "metadata": {},
   "outputs": [
    {
     "data": {
      "text/plain": [
       "'Learn magic, play Quidditch, and drink some butter beer.</textarea'"
      ]
     },
     "execution_count": 3,
     "metadata": {},
     "output_type": "execute_result"
    }
   ],
   "source": [
    "myStr.split(\">\")[1]"
   ]
  },
  {
   "cell_type": "code",
   "execution_count": 4,
   "metadata": {},
   "outputs": [],
   "source": [
    "var myStr2 = \"UP%2050/r/nCCW%2020/r/nDOWN%2020/r/n\""
   ]
  },
  {
   "cell_type": "code",
   "execution_count": 33,
   "metadata": {},
   "outputs": [],
   "source": [
    "function escapeRegExp(string) {\n",
    "  return string.replace(/[.*+?^${}()|[\\]\\\\]/g, '\\\\$&'); // $& means the whole matched string\n",
    "}"
   ]
  },
  {
   "cell_type": "code",
   "execution_count": 29,
   "metadata": {},
   "outputs": [],
   "source": [
    "function replaceAll(str, match, replacement){\n",
    "   return str.replace(new RegExp(escapeRegExp(match), 'g'), ()=>replacement);\n",
    "}"
   ]
  },
  {
   "cell_type": "code",
   "execution_count": 36,
   "metadata": {},
   "outputs": [
    {
     "data": {
      "text/plain": [
       "'UP%2050*CCW%2020*DOWN%2020*'"
      ]
     },
     "execution_count": 36,
     "metadata": {},
     "output_type": "execute_result"
    }
   ],
   "source": [
    "let myStr3 = replaceAll(myStr2,\"/r\",\"\")\n",
    "replaceAll(myStr3,\"/n\",\"*\")"
   ]
  },
  {
   "cell_type": "code",
   "execution_count": 37,
   "metadata": {},
   "outputs": [
    {
     "data": {
      "text/plain": [
       "'UP+50*sdd+33*dssd+22'"
      ]
     },
     "execution_count": 37,
     "metadata": {},
     "output_type": "execute_result"
    }
   ],
   "source": [
    "let someVar = \"UP+50*sdd+33*dssd+22\"\n",
    "someVar"
   ]
  },
  {
   "cell_type": "code",
   "execution_count": 72,
   "metadata": {},
   "outputs": [
    {
     "data": {
      "text/plain": [
       "'takeoff*UP+50*sdd+33*dssd+22*land'"
      ]
     },
     "execution_count": 72,
     "metadata": {},
     "output_type": "execute_result"
    }
   ],
   "source": [
    "someVar = \"takeoff*UP+50*sdd+33*dssd+22*land\""
   ]
  },
  {
   "cell_type": "code",
   "execution_count": 74,
   "metadata": {},
   "outputs": [
    {
     "data": {
      "text/plain": [
       "[\n",
       "  'takeoff', 'UP',\n",
       "  '50',      'sdd',\n",
       "  '33',      'dssd',\n",
       "  '22',      'land'\n",
       "]"
      ]
     },
     "execution_count": 74,
     "metadata": {},
     "output_type": "execute_result"
    }
   ],
   "source": [
    "someList = someVar.split(/[.\\*+/_]/)"
   ]
  },
  {
   "cell_type": "code",
   "execution_count": 75,
   "metadata": {},
   "outputs": [
    {
     "data": {
      "text/plain": [
       "[\n",
       "  'takeoff', 'UP',\n",
       "  '50',      'sdd',\n",
       "  '33',      'dssd',\n",
       "  '22',      'land'\n",
       "]"
      ]
     },
     "execution_count": 75,
     "metadata": {},
     "output_type": "execute_result"
    }
   ],
   "source": [
    "someList"
   ]
  },
  {
   "cell_type": "code",
   "execution_count": 57,
   "metadata": {},
   "outputs": [
    {
     "data": {
      "text/plain": [
       "0"
      ]
     },
     "execution_count": 57,
     "metadata": {},
     "output_type": "execute_result"
    }
   ],
   "source": [
    "let i =0;"
   ]
  },
  {
   "cell_type": "code",
   "execution_count": 63,
   "metadata": {},
   "outputs": [],
   "source": [
    "var dontUseArg = ['takeoff', 'land', 'video'];"
   ]
  },
  {
   "cell_type": "code",
   "execution_count": 78,
   "metadata": {},
   "outputs": [
    {
     "name": "stdout",
     "output_type": "stream",
     "text": [
      "takeoff\n",
      "key UP\n",
      "value 50\n",
      "key sdd\n",
      "value 33\n",
      "key dssd\n",
      "value 22\n",
      "land\n"
     ]
    },
    {
     "data": {
      "text/plain": [
       "8"
      ]
     },
     "execution_count": 78,
     "metadata": {},
     "output_type": "execute_result"
    }
   ],
   "source": [
    "i = 0; \n",
    "while(i < someList.length)\n",
    "    {\n",
    "        if (dontUseArg.indexOf(someList[i]) >= 0) {\n",
    "            let key = someList[i];\n",
    "            console.log(key);\n",
    "            i += 1;\n",
    "        }\n",
    "        else {\n",
    "            let key = someList[i];\n",
    "            let value = someList[i+1];\n",
    "            console.log(\"key\",key);\n",
    "            console.log(\"value\",value);\n",
    "            i += 2;\n",
    "        }\n",
    "        \n",
    "    }"
   ]
  },
  {
   "cell_type": "code",
   "execution_count": null,
   "metadata": {},
   "outputs": [],
   "source": []
  }
 ],
 "metadata": {
  "kernelspec": {
   "display_name": "Javascript (Node.js)",
   "language": "javascript",
   "name": "javascript"
  },
  "language_info": {
   "file_extension": ".js",
   "mimetype": "application/javascript",
   "name": "javascript",
   "version": "12.16.2"
  }
 },
 "nbformat": 4,
 "nbformat_minor": 4
}
